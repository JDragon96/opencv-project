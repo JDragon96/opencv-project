{
 "cells": [
  {
   "cell_type": "code",
   "execution_count": null,
   "metadata": {},
   "outputs": [],
   "source": [
    "import matplotlib.pyplot as plt\n",
    "import numpy as np\n",
    "import cv2"
   ]
  },
  {
   "cell_type": "code",
   "execution_count": 3,
   "metadata": {},
   "outputs": [
    {
     "data": {
      "text/plain": [
       "-1"
      ]
     },
     "execution_count": 3,
     "metadata": {},
     "output_type": "execute_result"
    }
   ],
   "source": [
    "img = cv2.imread(\"./data/clean_gauge1.jpg\", cv2.IMREAD_COLOR)\n",
    "cv2.imshow(\"hi\", img)\n",
    "cv2.waitKey()"
   ]
  },
  {
   "cell_type": "code",
   "execution_count": 7,
   "metadata": {},
   "outputs": [
    {
     "name": "stdout",
     "output_type": "stream",
     "text": [
      "[[[240.5 261.5 119.4]\n",
      "  [171.5 180.5 110.6]\n",
      "  [373.5 220.5 119.4]\n",
      "  [296.5 156.5 108.4]\n",
      "  [291.5 380.5 108.4]\n",
      "  [414.5 324.5 101.8]\n",
      "  [163.5 336.5 106.2]\n",
      "  [510.5 392.5 115. ]\n",
      "  [206.5  82.5 106.2]\n",
      "  [363.5 458.5 118.3]\n",
      "  [392.5 118.5 102.9]\n",
      "  [ 77.5 250.5 113.9]\n",
      "  [518.5 513.5 100.1]\n",
      "  [ 41.5 392.5 118.3]\n",
      "  [204.5 448.5 118.3]\n",
      "  [479.5  48.5  93.8]\n",
      "  [384.5 577.5 108.4]\n",
      "  [ 57.5  10.5 112.8]]]\n"
     ]
    },
    {
     "ename": "error",
     "evalue": "OpenCV(4.6.0) :-1: error: (-5:Bad argument) in function 'circle'\n> Overload resolution failed:\n>  - Can't parse 'center'. Sequence item with index 0 has a wrong type\n>  - Can't parse 'center'. Sequence item with index 0 has a wrong type\n",
     "output_type": "error",
     "traceback": [
      "\u001b[1;31m---------------------------------------------------------------------------\u001b[0m",
      "\u001b[1;31merror\u001b[0m                                     Traceback (most recent call last)",
      "Cell \u001b[1;32mIn [7], line 10\u001b[0m\n\u001b[0;32m      7\u001b[0m \u001b[39mprint\u001b[39m(circles)\n\u001b[0;32m      9\u001b[0m \u001b[39mfor\u001b[39;00m i \u001b[39min\u001b[39;00m circles[\u001b[39m0\u001b[39m]:\n\u001b[1;32m---> 10\u001b[0m     cv2\u001b[39m.\u001b[39;49mcircle(dst, (i[\u001b[39m0\u001b[39;49m], i[\u001b[39m1\u001b[39;49m]), i[\u001b[39m2\u001b[39;49m], (\u001b[39m255\u001b[39;49m, \u001b[39m255\u001b[39;49m, \u001b[39m255\u001b[39;49m), \u001b[39m5\u001b[39;49m)\n\u001b[0;32m     12\u001b[0m cv2\u001b[39m.\u001b[39mimshow(\u001b[39m\"\u001b[39m\u001b[39mdst\u001b[39m\u001b[39m\"\u001b[39m, dst)\n\u001b[0;32m     13\u001b[0m cv2\u001b[39m.\u001b[39mwaitKey(\u001b[39m0\u001b[39m)\n",
      "\u001b[1;31merror\u001b[0m: OpenCV(4.6.0) :-1: error: (-5:Bad argument) in function 'circle'\n> Overload resolution failed:\n>  - Can't parse 'center'. Sequence item with index 0 has a wrong type\n>  - Can't parse 'center'. Sequence item with index 0 has a wrong type\n"
     ]
    },
    {
     "ename": "",
     "evalue": "",
     "output_type": "error",
     "traceback": [
      "\u001b[1;31m현재 셀 또는 이전 셀에서 코드를 실행하는 동안 Kernel이 충돌했습니다. 셀의 코드를 검토하여 오류의 가능한 원인을 식별하세요. 자세한 내용을 보려면 <a href='https://aka.ms/vscodeJupyterKernelCrash'> 여기 </a> 를 클릭하세요. 자세한 내용은 Jupyter <a href='command:jupyter.viewOutput'>로그</a>를 참조하세요."
     ]
    }
   ],
   "source": [
    "dst = img.copy()\n",
    "gray = cv2.cvtColor(dst, cv2.COLOR_BGR2GRAY)\n",
    "circles = cv2.HoughCircles(gray, cv2.HOUGH_GRADIENT, 1, 100, param1 = 250, param2 = 10, minRadius = 80, maxRadius = 120)\n",
    "cv2.imshow(\"hi\", gray)\n",
    "cv2.waitKey()\n",
    "\n",
    "print(circles)\n",
    "\n",
    "for i in circles[0]:\n",
    "    cv2.circle(dst, (i[0], i[1]), i[2], (255, 255, 255), 5)\n",
    "\n",
    "cv2.imshow(\"dst\", dst)\n",
    "cv2.waitKey(0)\n",
    "cv2.destroyAllWindows()"
   ]
  },
  {
   "cell_type": "code",
   "execution_count": null,
   "metadata": {},
   "outputs": [],
   "source": []
  }
 ],
 "metadata": {
  "kernelspec": {
   "display_name": "Python 3.10.8 ('opencv-env')",
   "language": "python",
   "name": "python3"
  },
  "language_info": {
   "codemirror_mode": {
    "name": "ipython",
    "version": 3
   },
   "file_extension": ".py",
   "mimetype": "text/x-python",
   "name": "python",
   "nbconvert_exporter": "python",
   "pygments_lexer": "ipython3",
   "version": "3.10.8"
  },
  "orig_nbformat": 4,
  "vscode": {
   "interpreter": {
    "hash": "f9e28fe658f91fe8a9d7b78dd6778cfa56216e36a2a575bd4e6dd0b9f674491e"
   }
  }
 },
 "nbformat": 4,
 "nbformat_minor": 2
}
